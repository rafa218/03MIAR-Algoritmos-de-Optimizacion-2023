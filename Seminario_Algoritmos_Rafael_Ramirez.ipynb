{
  "nbformat": 4,
  "nbformat_minor": 0,
  "metadata": {
    "colab": {
      "provenance": [],
      "include_colab_link": true
    },
    "kernelspec": {
      "name": "python3",
      "display_name": "Python 3"
    }
  },
  "cells": [
    {
      "cell_type": "markdown",
      "metadata": {
        "id": "view-in-github",
        "colab_type": "text"
      },
      "source": [
        "<a href=\"https://colab.research.google.com/github/rafa218/03MIAR-Algoritmos-de-Optimizacion-2023/blob/main/Seminario_Algoritmos_Rafael_Ramirez.ipynb\" target=\"_parent\"><img src=\"https://colab.research.google.com/assets/colab-badge.svg\" alt=\"Open In Colab\"/></a>"
      ]
    },
    {
      "cell_type": "markdown",
      "metadata": {
        "id": "hVbXYX-RfPWh"
      },
      "source": [
        "# Algoritmos de optimización - Seminario<br>\n",
        "Nombre y Apellidos: Rafael Ernesto Ramírez Ruiz  <br>\n",
        "Url: https://github.com/rafa218/03MIAR-Algoritmos-de-Optimizacion-2023/blob/main/Seminario_Algoritmos_Rafael_Ramirez.ipynb <br>\n",
        "Problema:\n",
        "> 1. Sesiones de doblaje <br>\n",
        "\n",
        "\n",
        "\n",
        "Descripción del problema:\n",
        "\n",
        "Se precisa coordinar el doblaje de una película. Los actores del doblaje deben coincidir en las tomas en las que sus personajes aparecen juntos en las diferentes tomas. Los actores de doblaje cobran todos la misma cantidad por cada día que deben desplazarse hasta el estudio de grabación independientemente del número de tomas que se graben. No es posible grabar más de 6 tomas por día. El objetivo es planificar las sesiones por día de manera que el gasto por los servicios de los actores de doblaje sea el menor posible. Los datos son:\n",
        "* Número de actores: 10\n",
        "* Número de tomas: 30\n",
        "\n",
        "(*) La respuesta es obligatoria\n",
        "\n",
        "\n",
        "\n",
        "\n",
        "\n"
      ]
    },
    {
      "cell_type": "markdown",
      "metadata": {
        "id": "3_-exlrTgLd-"
      },
      "source": [
        "(*)¿Cuantas posibilidades hay sin tener en cuenta las restricciones?<br>\n",
        "\n",
        "\n",
        "\n",
        "\n",
        "¿Cuantas posibilidades hay teniendo en cuenta todas las restricciones?\n",
        "\n",
        "\n"
      ]
    },
    {
      "cell_type": "markdown",
      "source": [
        "**RESPUESTA**\n",
        "\n",
        "**¿Cuantas posibilidades hay sin tener en cuenta las restricciones?**\n",
        "\n",
        "Considerando que no hay restricciones, entonces el numero de tomas por día podria ser desde 1 hasta las 30 en un mismo día. Por lo tanto, si consideramos todas las posibilidades, se deberia considerar el caso máximo que fuera cuando se realiza una toma al día, y al ser 30 tomas diferentes, si se valora el orden en que se grabe cada toma la máxima cantidad de posibilidades sería el factorail de 30, es decir,  **30!**\n",
        "\n",
        "\n",
        "\n",
        "**¿Cuantas posibilidades hay teniendo en cuenta todas las restricciones?**\n",
        "\n",
        "Considerando las restricciones que solo se pueden grabar 6 tomas por día, y que se debe considerar que los actores que se presenten sea los que tengan tomas que grabar, entonces se puede estimar las posibilidades de la siguiente forma:\n",
        "Consideraremos unicamente la restricción de 6 tomas por día, y con esta obtendremos la mayor cantidad de posibilidades que puede darse. Para esto se toma en cuenta que al inicio se tienen 30 tomas por grabar, si en el primer dia se graban 6, entonces las posibilidades son equivalentes a la combinatoria de 30 con 6, es decir, 30C6. Para el segundo día que también se tomará 6 tomas, existen unas posibilidades equivalentes a 24C6, ya que son 24 tomas las que aún no se han grabado. Siguiendo esta logica, el númerto total se calcularia multiplicando las siguientes combinatorias:\n",
        "\n",
        "Posibilidades =  30C6 x  24C6 x 18C6 x 12C6 x 6C6 = 1.37 x 10^18\n"
      ],
      "metadata": {
        "id": "Of1unCu8Anjd"
      }
    },
    {
      "cell_type": "code",
      "metadata": {
        "id": "iq6Fe32MgpDX"
      },
      "source": [],
      "execution_count": null,
      "outputs": []
    },
    {
      "cell_type": "markdown",
      "metadata": {
        "id": "dzynfVJahHoY"
      },
      "source": [
        "Modelo para el espacio de soluciones<br>\n",
        "\n",
        "(*) ¿Cual es la estructura de datos que mejor se adapta al problema? Argumentalo.(Es posible que hayas elegido una al principio y veas la necesidad de cambiar, arguentalo)\n",
        "\n",
        "Se considera que la mejor estructura es una matriz, ya que es una forma fácil de visualizar con la misma tabla de datos que se proporciono, en la cual cada fila indicará cada toma y cada columna indica el actor.\n",
        "Con la matriz se puede acceder directamente a cualquiera de los datos mediante los índices, y trabajar con las filas completas para analizar las tomas."
      ]
    },
    {
      "cell_type": "markdown",
      "metadata": {
        "id": "xFIJrOwKi2Ti"
      },
      "source": [
        "Respuesta"
      ]
    },
    {
      "cell_type": "code",
      "metadata": {
        "id": "38c-7-ejhJmA",
        "colab": {
          "base_uri": "https://localhost:8080/"
        },
        "outputId": "4acbaeaa-0ced-4cb6-9261-1f1ffabd681d"
      },
      "source": [
        "tomas = [\n",
        "    [1, 1, 1, 1, 1, 0, 0, 0, 0, 0],\n",
        "    [0, 0, 1, 1, 1, 0, 0, 0, 0, 0],\n",
        "    [0, 1, 0, 0, 1, 0, 1, 0, 0, 0],\n",
        "    [1, 1, 0, 0, 0, 0, 1, 1, 0, 0],\n",
        "    [0, 1, 0, 1, 0, 0, 0, 1, 0, 0],\n",
        "    [1, 1, 0, 1, 1, 0, 0, 0, 0, 0],\n",
        "    [1, 1, 0, 1, 1, 0, 0, 0, 0, 0],\n",
        "    [1, 1, 0, 0, 0, 1, 0, 0, 0, 0],\n",
        "    [1, 1, 0, 1, 0, 0, 0, 0, 0, 0],\n",
        "    [1, 1, 0, 0, 0, 1, 0, 0, 1, 0],\n",
        "    [1, 1, 1, 0, 1, 0, 0, 1, 0, 0],\n",
        "    [1, 1, 1, 1, 0, 1, 0, 0, 0, 0],\n",
        "    [1, 0, 0, 1, 1, 0, 0, 0, 0, 0],\n",
        "    [1, 0, 1, 0, 0, 1, 0, 0, 0, 0],\n",
        "    [1, 1, 0, 0, 0, 0, 1, 0, 0, 0],\n",
        "    [0, 0, 0, 1, 0, 0, 0, 0, 0, 1],\n",
        "    [1, 0, 1, 0, 0, 0, 0, 0, 0, 0],\n",
        "    [0, 0, 1, 0, 0, 1, 0, 0, 0, 0],\n",
        "    [1, 0, 1, 0, 0, 0, 0, 0, 0, 0],\n",
        "    [1, 0, 1, 1, 1, 0, 0, 0, 0, 0],\n",
        "    [0, 0, 0, 0, 0, 1, 0, 1, 0, 0],\n",
        "    [1, 1, 1, 1, 0, 0, 0, 0, 0, 0],\n",
        "    [1, 0, 1, 0, 0, 0, 0, 0, 0, 0],\n",
        "    [0, 0, 1, 0, 0, 1, 0, 0, 0, 0],\n",
        "    [1, 1, 0, 1, 0, 0, 0, 0, 0, 1],\n",
        "    [1, 0, 1, 0, 1, 0, 0, 0, 1, 0],\n",
        "    [0, 0, 0, 1, 1, 0, 0, 0, 0, 0],\n",
        "    [1, 0, 0, 1, 0, 0, 0, 0, 0, 0],\n",
        "    [1, 0, 0, 0, 1, 1, 0, 0, 0, 0],\n",
        "    [1, 0, 0, 1, 0, 0, 0, 0, 0, 0]\n",
        "]\n",
        "for fila in tomas:\n",
        "    print(fila)"
      ],
      "execution_count": null,
      "outputs": [
        {
          "output_type": "stream",
          "name": "stdout",
          "text": [
            "[1, 1, 1, 1, 1, 0, 0, 0, 0, 0]\n",
            "[0, 0, 1, 1, 1, 0, 0, 0, 0, 0]\n",
            "[0, 1, 0, 0, 1, 0, 1, 0, 0, 0]\n",
            "[1, 1, 0, 0, 0, 0, 1, 1, 0, 0]\n",
            "[0, 1, 0, 1, 0, 0, 0, 1, 0, 0]\n",
            "[1, 1, 0, 1, 1, 0, 0, 0, 0, 0]\n",
            "[1, 1, 0, 1, 1, 0, 0, 0, 0, 0]\n",
            "[1, 1, 0, 0, 0, 1, 0, 0, 0, 0]\n",
            "[1, 1, 0, 1, 0, 0, 0, 0, 0, 0]\n",
            "[1, 1, 0, 0, 0, 1, 0, 0, 1, 0]\n",
            "[1, 1, 1, 0, 1, 0, 0, 1, 0, 0]\n",
            "[1, 1, 1, 1, 0, 1, 0, 0, 0, 0]\n",
            "[1, 0, 0, 1, 1, 0, 0, 0, 0, 0]\n",
            "[1, 0, 1, 0, 0, 1, 0, 0, 0, 0]\n",
            "[1, 1, 0, 0, 0, 0, 1, 0, 0, 0]\n",
            "[0, 0, 0, 1, 0, 0, 0, 0, 0, 1]\n",
            "[1, 0, 1, 0, 0, 0, 0, 0, 0, 0]\n",
            "[0, 0, 1, 0, 0, 1, 0, 0, 0, 0]\n",
            "[1, 0, 1, 0, 0, 0, 0, 0, 0, 0]\n",
            "[1, 0, 1, 1, 1, 0, 0, 0, 0, 0]\n",
            "[0, 0, 0, 0, 0, 1, 0, 1, 0, 0]\n",
            "[1, 1, 1, 1, 0, 0, 0, 0, 0, 0]\n",
            "[1, 0, 1, 0, 0, 0, 0, 0, 0, 0]\n",
            "[0, 0, 1, 0, 0, 1, 0, 0, 0, 0]\n",
            "[1, 1, 0, 1, 0, 0, 0, 0, 0, 1]\n",
            "[1, 0, 1, 0, 1, 0, 0, 0, 1, 0]\n",
            "[0, 0, 0, 1, 1, 0, 0, 0, 0, 0]\n",
            "[1, 0, 0, 1, 0, 0, 0, 0, 0, 0]\n",
            "[1, 0, 0, 0, 1, 1, 0, 0, 0, 0]\n",
            "[1, 0, 0, 1, 0, 0, 0, 0, 0, 0]\n"
          ]
        }
      ]
    },
    {
      "cell_type": "markdown",
      "metadata": {
        "id": "7Z9U2W7bi-XS"
      },
      "source": [
        "Según el modelo para el espacio de soluciones<br>\n",
        "(*)¿Cual es la función objetivo?\n",
        "\n",
        "R/ Ya que lo que se contabiliza al final es el número de actores que se presentan por cada día, y estos a su vez se suman por todos los días que lleva grabar todas las tomas. Entonces, se puede representar la función objetivo como una sumatoria (segun número de días n) de una sumatoria (según número de actores N) del costo de cada actor, lo cual llameremos x.\n",
        "\n",
        "Asi la función quedaría:\n",
        "\n",
        "![image.png](data:image/png;base64,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)\n",
        "\n",
        "\n",
        "\n",
        "---\n",
        "\n",
        "\n",
        "\n",
        "(*)¿Es un problema de maximización o minimización?\n",
        "\n",
        "Ya que en la función objetivo se está obteniendo el total de actores por día en todos los días de grabación, eso representa tecnimente el costo total de la grabación. Acorde al enunciado es este coste total el que se busca MINIMIZAR, por lo tanto es un problema de minimización."
      ]
    },
    {
      "cell_type": "markdown",
      "metadata": {
        "id": "hBalWLM7j1_d"
      },
      "source": [
        "Respuesta"
      ]
    },
    {
      "cell_type": "markdown",
      "metadata": {
        "id": "rlnTYgY1j6I2"
      },
      "source": [
        "Diseña un algoritmo para resolver el problema por fuerza bruta"
      ]
    },
    {
      "cell_type": "markdown",
      "metadata": {
        "id": "70rDgxYXkC8r"
      },
      "source": [
        "Respuesta"
      ]
    },
    {
      "cell_type": "code",
      "source": [
        "import time\n",
        "from itertools import combinations\n",
        "\n",
        "#Mide tiempo de inicio\n",
        "start_time = time.time()\n",
        "\n",
        "# Lista de las tomas del 1 al 30\n",
        "no_tomas = list(range(1, 31))\n",
        "\n",
        "#Funcion para calcular el costo por cada dia segun las tomas que se haran ese dia\n",
        "def costo_por_dia(tomas_dia):\n",
        "    actores_invocados = set()\n",
        "    for toma in tomas_dia:\n",
        "        for i, actor in enumerate(tomas[toma-1]): #Se evalua cada actor en la toma para agregarlo al set si se encuentra\n",
        "            if actor == 1:\n",
        "                actores_invocados.add(i+1)\n",
        "    return len(actores_invocados)\n",
        "\n",
        "dias = 1\n",
        "costo_total = 0\n",
        "\n",
        "\n",
        "while no_tomas:  #Se ejecuta mientras exista tomas que no se hayan asignado a un dia\n",
        "    mejor_costo = float('inf') #Se inicializa con un costo infinito\n",
        "    mejor_combinacion = None  #Se inicializa la mejor combinación de tomas\n",
        "\n",
        "    # Se realiza las combinaciones con la restriccion de maximo 6 tomas diarias\n",
        "    combinaciones_tomas = list(combinations(no_tomas, 6))\n",
        "    if not combinaciones_tomas:  # Si no hay combinaciones de 6 tomas, se considera va disminuyendo en 1 toma\n",
        "        for i in range(5, 0, -1):\n",
        "            combinaciones_tomas = list(combinations(no_tomas, i))\n",
        "            if combinaciones_tomas:\n",
        "                break\n",
        "\n",
        "    #Se recorre las combinaciones de tomas calculando el costo diario\n",
        "    for combinacion in combinaciones_tomas:\n",
        "        costo = costo_por_dia(combinacion)\n",
        "        if costo < mejor_costo:  #Se identifica el costo inferior\n",
        "            mejor_costo = costo\n",
        "            mejor_combinacion = combinacion\n",
        "\n",
        "    print(f\"Día {dias}: Tomas {mejor_combinacion}\")\n",
        "    dias += 1\n",
        "\n",
        "    # Agregamos el costo del día al costo total\n",
        "    costo_total += mejor_costo\n",
        "\n",
        "    #  Se eliminan de la lista de tomas las que fueron utilizadas\n",
        "    for toma in mejor_combinacion:\n",
        "        no_tomas.remove(toma)\n",
        "\n",
        "\n",
        "print(f\"Costo total: {costo_total}\")\n",
        "\n",
        "# Mide tiempo final\n",
        "end_time = time.time()\n",
        "#Se calcula tiempo total de ejecución\n",
        "elapsed_time = end_time - start_time\n",
        "print(f\"Tiempo de ejecución: {elapsed_time:.2f} segundos\")"
      ],
      "metadata": {
        "colab": {
          "base_uri": "https://localhost:8080/"
        },
        "id": "vhcoL94T8zGj",
        "outputId": "6eff70ca-ec59-4c55-d7fb-3ac73be9f00d"
      },
      "execution_count": null,
      "outputs": [
        {
          "output_type": "stream",
          "name": "stdout",
          "text": [
            "Día 1: Tomas (14, 17, 18, 19, 23, 24)\n",
            "Día 2: Tomas (2, 13, 20, 27, 28, 30)\n",
            "Día 3: Tomas (1, 3, 6, 7, 9, 15)\n",
            "Día 4: Tomas (4, 5, 8, 12, 21, 22)\n",
            "Día 5: Tomas (10, 11, 16, 25, 26, 29)\n",
            "Costo total: 29\n",
            "Tiempo de ejecución: 6.68 segundos\n"
          ]
        }
      ]
    },
    {
      "cell_type": "markdown",
      "metadata": {
        "id": "tgrnsC2nkFa8"
      },
      "source": [
        "Calcula la complejidad del algoritmo por fuerza bruta"
      ]
    },
    {
      "cell_type": "markdown",
      "metadata": {
        "id": "9eUd3xwckP68"
      },
      "source": [
        "Respuesta"
      ]
    },
    {
      "cell_type": "markdown",
      "source": [
        "**R/** El coste comutacional para este algoritmo por fuerza bruta es de **n!** . Esto se puede calcular debido a si bien existen bucles anidados, el mayor coste se da debido que evalua las diferentes combinaciones posibles. Ya que la combinatoria depende del número de tomas totales que se quiere combinar, esto es equivalente a un coste n!, ya que si el numero de tomas fuera creciendo, el coste aumentaria factorialmente.\n"
      ],
      "metadata": {
        "id": "heoFEdFnWkAS"
      }
    },
    {
      "cell_type": "markdown",
      "metadata": {
        "id": "txbrmLmskReM"
      },
      "source": [
        "(*)Diseña un algoritmo que mejore la complejidad del algortimo por fuerza bruta. Argumenta porque crees que mejora el algoritmo por fuerza bruta"
      ]
    },
    {
      "cell_type": "markdown",
      "metadata": {
        "id": "hLrVwt5QkZPD"
      },
      "source": [
        "Respuesta"
      ]
    },
    {
      "cell_type": "markdown",
      "source": [
        "Se hace la prueba con algortimo tipo GRASP, el cual despues de diferentes pruebas se implemento bajo un enfoque de construccion de buscar la mayor cantidad de actores con menos llamadas en dias, agregado de diferente cantidad de iteraciones del método Grasp, junto con factor de aleatoridad introducido con una lista restringida de candidatos en la cual en lugar de seleccionar la mejor opción, consideraba tomas aleatorias para buscar soluciones optimas.\n",
        "\n",
        "\n"
      ],
      "metadata": {
        "id": "96LN3A5uZIGq"
      }
    },
    {
      "cell_type": "code",
      "source": [
        "import time\n",
        "import random\n",
        "\n",
        "start_time = time.time()\n",
        "\n",
        "#Se calcula costo del dia con las tomas seleccionadas\n",
        "def costo_por_dia(tomas_seleccionadas):\n",
        "    actores_invocados = set()\n",
        "    for toma in tomas_seleccionadas:\n",
        "        for i, actor in enumerate(tomas[toma]):\n",
        "            if actor == 1:\n",
        "                actores_invocados.add(i)\n",
        "    return len(actores_invocados)\n",
        "\n",
        "\n",
        "#Funcion que se toma muestras en la cuales aparecen que han sido llamado menos veces, tambien agrega aleatoridad agregando una lista restringida de candidatos\n",
        "def construccion(tomas_disponibles, llamadas_actor, rcl_size=3):\n",
        "    tomas_seleccionadas = []\n",
        "    while len(tomas_seleccionadas) < 6 and tomas_disponibles:\n",
        "        # Ordenar tomas\n",
        "        tomas_ordenadas = sorted(tomas_disponibles, key=lambda x: sum([(max(llamadas_actor) - llamadas_actor[i]) for i, actor in enumerate(tomas[x]) if actor == 1]), reverse=True)\n",
        "\n",
        "        # Se toma aleatoriamente 3 tomas\n",
        "        toma = random.choice(tomas_ordenadas[:rcl_size])\n",
        "\n",
        "        #Se agrega la toma a seleccionadas y se elimina de las disponibles\n",
        "        tomas_seleccionadas.append(toma)\n",
        "        tomas_disponibles.remove(toma)\n",
        "\n",
        "        #Se contabiliza si los actores ya han sido llamados\n",
        "        for i, actor in enumerate(tomas[toma]):\n",
        "            if actor == 1:\n",
        "                llamadas_actor[i] += 1\n",
        "\n",
        "    return tomas_seleccionadas, tomas_disponibles\n",
        "\n",
        "#Funcion que permite hacer busqueda local intercambiando tomas para buscar mejores soluciones\n",
        "def busqueda_local(tomas_seleccionadas, tomas_disponibles):\n",
        "    mejor_costo = costo_por_dia(tomas_seleccionadas)\n",
        "    mejorado = True\n",
        "    while mejorado:\n",
        "        mejorado = False\n",
        "        for i in range(len(tomas_seleccionadas)):\n",
        "            for j in tomas_disponibles:\n",
        "                if j not in tomas_seleccionadas:\n",
        "                    nueva_toma = tomas_seleccionadas.copy()\n",
        "                    nueva_toma[i] = j\n",
        "                    nuevo_costo = costo_por_dia(nueva_toma)\n",
        "                    if nuevo_costo < mejor_costo:\n",
        "                        mejor_costo = nuevo_costo\n",
        "                        tomas_seleccionadas = nueva_toma\n",
        "                        mejorado = True\n",
        "    return tomas_seleccionadas\n",
        "\n",
        "\n",
        "#Funcion para iterar los pasos de construccion y calculo de costo para buscar el mejor\n",
        "def grasp(iteraciones):\n",
        "    mejor_solucion = []\n",
        "    mejor_costo = float('inf')\n",
        "\n",
        "    for _ in range(iteraciones):\n",
        "        dias = []\n",
        "        tomas_restantes = list(range(30))\n",
        "        llamadas_actor = [0] * 10  # Inicializamos un registro de cuántas veces se ha llamado a cada actor\n",
        "\n",
        "        while tomas_restantes:\n",
        "            sol, tomas_restantes = construccion(tomas_restantes, llamadas_actor)\n",
        "            dias.append(sol)\n",
        "\n",
        "        costo_actual = sum([costo_por_dia(dia) for dia in dias])\n",
        "\n",
        "        if costo_actual < mejor_costo:\n",
        "            mejor_costo = costo_actual\n",
        "            mejor_solucion = dias\n",
        "\n",
        "    return mejor_solucion, mejor_costo\n",
        "\n",
        "\n",
        "# Ejecutamos GRASP 100 veces y nos quedamos con la mejor solución\n",
        "dias, costo_total = grasp(100)\n",
        "\n",
        "\n",
        "\n",
        "costo_total = sum([costo_por_dia(dia) for dia in dias])\n",
        "print(f\"Costo total: {costo_total}\")\n",
        "for i, dia in enumerate(dias):\n",
        "    print(f\"Dia {i+1}: Toma {', '.join(map(str, [t+1 for t in dia]))}\")\n",
        "\n",
        "# Marca el tiempo de finalización y calcula la diferencia\n",
        "end_time = time.time()\n",
        "elapsed_time = end_time - start_time\n",
        "print(f\"Tiempo de ejecución: {elapsed_time:.2f} segundos\")"
      ],
      "metadata": {
        "colab": {
          "base_uri": "https://localhost:8080/"
        },
        "id": "E3PZbZ3Mzef1",
        "outputId": "ee80a2cb-4444-4ce8-d6a6-6bdb529c389b"
      },
      "execution_count": null,
      "outputs": [
        {
          "output_type": "stream",
          "name": "stdout",
          "text": [
            "Costo total: 34\n",
            "Dia 1: Toma 2, 8, 5, 4, 1, 11\n",
            "Dia 2: Toma 26, 12, 25, 21, 16, 10\n",
            "Dia 3: Toma 20, 15, 3, 14, 6, 18\n",
            "Dia 4: Toma 24, 29, 13, 22, 7, 27\n",
            "Dia 5: Toma 9, 17, 28, 23, 30, 19\n",
            "Tiempo de ejecución: 0.11 segundos\n"
          ]
        }
      ]
    },
    {
      "cell_type": "markdown",
      "metadata": {
        "id": "eGDB4K6uk1iN"
      },
      "source": [
        "(*)Calcula la complejidad del algoritmo"
      ]
    },
    {
      "cell_type": "markdown",
      "metadata": {
        "id": "NhpTh_BPk1ms"
      },
      "source": [
        "Respuesta\n",
        "\n",
        "### **R/**  Considerando los bucles anidados de la función costo_por_dia y de busqueda_local, serian la complejidad más alta y por tanto la de todo el algoritmo que es: **n^2**\n",
        "\n",
        "\n"
      ]
    },
    {
      "cell_type": "markdown",
      "metadata": {
        "id": "3M6QjTsSkmYe"
      },
      "source": [
        "Según el problema (y tenga sentido), diseña un juego de datos de entrada aleatorios"
      ]
    },
    {
      "cell_type": "markdown",
      "metadata": {
        "id": "Jc3_OlyNkvjZ"
      },
      "source": [
        "Respuesta"
      ]
    },
    {
      "cell_type": "code",
      "metadata": {
        "id": "sJ-N2etjkyWc",
        "colab": {
          "base_uri": "https://localhost:8080/"
        },
        "outputId": "1c5c0278-a64c-4d42-8eaa-1e7085395d06"
      },
      "source": [
        "import random\n",
        "\n",
        "def generar_tomas_aleatorias(filas=30, columnas=10):\n",
        "    return [[random.randint(0, 1) for _ in range(columnas)] for _ in range(filas)]\n",
        "\n",
        "tomas_random = generar_tomas_aleatorias()\n",
        "\n",
        "# Imprimir la matriz generada\n",
        "for fila in tomas:\n",
        "    print(fila)"
      ],
      "execution_count": null,
      "outputs": [
        {
          "output_type": "stream",
          "name": "stdout",
          "text": [
            "[1, 1, 1, 1, 1, 0, 0, 0, 0, 0]\n",
            "[0, 0, 1, 1, 1, 0, 0, 0, 0, 0]\n",
            "[0, 1, 0, 0, 1, 0, 1, 0, 0, 0]\n",
            "[1, 1, 0, 0, 0, 0, 1, 1, 0, 0]\n",
            "[0, 1, 0, 1, 0, 0, 0, 1, 0, 0]\n",
            "[1, 1, 0, 1, 1, 0, 0, 0, 0, 0]\n",
            "[1, 1, 0, 1, 1, 0, 0, 0, 0, 0]\n",
            "[1, 1, 0, 0, 0, 1, 0, 0, 0, 0]\n",
            "[1, 1, 0, 1, 0, 0, 0, 0, 0, 0]\n",
            "[1, 1, 0, 0, 0, 1, 0, 0, 1, 0]\n",
            "[1, 1, 1, 0, 1, 0, 0, 1, 0, 0]\n",
            "[1, 1, 1, 1, 0, 1, 0, 0, 0, 0]\n",
            "[1, 0, 0, 1, 1, 0, 0, 0, 0, 0]\n",
            "[1, 0, 1, 0, 0, 1, 0, 0, 0, 0]\n",
            "[1, 1, 0, 0, 0, 0, 1, 0, 0, 0]\n",
            "[0, 0, 0, 1, 0, 0, 0, 0, 0, 1]\n",
            "[1, 0, 1, 0, 0, 0, 0, 0, 0, 0]\n",
            "[0, 0, 1, 0, 0, 1, 0, 0, 0, 0]\n",
            "[1, 0, 1, 0, 0, 0, 0, 0, 0, 0]\n",
            "[1, 0, 1, 1, 1, 0, 0, 0, 0, 0]\n",
            "[0, 0, 0, 0, 0, 1, 0, 1, 0, 0]\n",
            "[1, 1, 1, 1, 0, 0, 0, 0, 0, 0]\n",
            "[1, 0, 1, 0, 0, 0, 0, 0, 0, 0]\n",
            "[0, 0, 1, 0, 0, 1, 0, 0, 0, 0]\n",
            "[1, 1, 0, 1, 0, 0, 0, 0, 0, 1]\n",
            "[1, 0, 1, 0, 1, 0, 0, 0, 1, 0]\n",
            "[0, 0, 0, 1, 1, 0, 0, 0, 0, 0]\n",
            "[1, 0, 0, 1, 0, 0, 0, 0, 0, 0]\n",
            "[1, 0, 0, 0, 1, 1, 0, 0, 0, 0]\n",
            "[1, 0, 0, 1, 0, 0, 0, 0, 0, 0]\n"
          ]
        }
      ]
    },
    {
      "cell_type": "markdown",
      "metadata": {
        "id": "zy5ZROmjlGo1"
      },
      "source": [
        "Aplica el algoritmo al juego de datos generado"
      ]
    },
    {
      "cell_type": "markdown",
      "metadata": {
        "id": "_Cmj-PVylMsa"
      },
      "source": [
        "Respuesta"
      ]
    },
    {
      "cell_type": "code",
      "metadata": {
        "id": "Jkx8GeiYlUz1",
        "colab": {
          "base_uri": "https://localhost:8080/"
        },
        "outputId": "98f3b348-9562-4335-c14b-5c8ef6330f1f"
      },
      "source": [
        "import time\n",
        "import random\n",
        "\n",
        "start_time = time.time()\n",
        "\n",
        "#Se calcula costo del dia con las tomas seleccionadas\n",
        "def costo_por_dia(tomas_seleccionadas):\n",
        "    actores_invocados = set()\n",
        "    for toma in tomas_seleccionadas:\n",
        "        for i, actor in enumerate(tomas_random[toma]):\n",
        "            if actor == 1:\n",
        "                actores_invocados.add(i)\n",
        "    return len(actores_invocados)\n",
        "\n",
        "\n",
        "#Funcion que se toma muestras en la cuales aparecen que han sido llamado menos veces, tambien agrega aleatoridad agregando una lista restringida de candidatos\n",
        "def construccion(tomas_disponibles, llamadas_actor, rcl_size=3):\n",
        "    tomas_seleccionadas = []\n",
        "    while len(tomas_seleccionadas) < 6 and tomas_disponibles:\n",
        "        # Ordenar tomas\n",
        "        tomas_ordenadas = sorted(tomas_disponibles, key=lambda x: sum([(max(llamadas_actor) - llamadas_actor[i]) for i, actor in enumerate(tomas_random[x]) if actor == 1]), reverse=True)\n",
        "\n",
        "        # Se toma aleatoriamente 3 tomas\n",
        "        toma = random.choice(tomas_ordenadas[:rcl_size])\n",
        "\n",
        "        #Se agrega la toma a seleccionadas y se elimina de las disponibles\n",
        "        tomas_seleccionadas.append(toma)\n",
        "        tomas_disponibles.remove(toma)\n",
        "\n",
        "        #Se contabiliza si los actores ya han sido llamados\n",
        "        for i, actor in enumerate(tomas_random[toma]):\n",
        "            if actor == 1:\n",
        "                llamadas_actor[i] += 1\n",
        "\n",
        "    return tomas_seleccionadas, tomas_disponibles\n",
        "\n",
        "#Funcion que permite hacer busqueda local intercambiando tomas para buscar mejores soluciones\n",
        "def busqueda_local(tomas_seleccionadas, tomas_disponibles):\n",
        "    mejor_costo = costo_por_dia(tomas_seleccionadas)\n",
        "    mejorado = True\n",
        "    while mejorado:\n",
        "        mejorado = False\n",
        "        for i in range(len(tomas_seleccionadas)):\n",
        "            for j in tomas_disponibles:\n",
        "                if j not in tomas_seleccionadas:\n",
        "                    nueva_toma = tomas_seleccionadas.copy()\n",
        "                    nueva_toma[i] = j\n",
        "                    nuevo_costo = costo_por_dia(nueva_toma)\n",
        "                    if nuevo_costo < mejor_costo:\n",
        "                        mejor_costo = nuevo_costo\n",
        "                        tomas_seleccionadas = nueva_toma\n",
        "                        mejorado = True\n",
        "    return tomas_seleccionadas\n",
        "\n",
        "\n",
        "#Funcion para iterar los pasos de construccion y calculo de costo para buscar el mejor\n",
        "def grasp(iteraciones):\n",
        "    mejor_solucion = []\n",
        "    mejor_costo = float('inf')\n",
        "\n",
        "    for _ in range(iteraciones):\n",
        "        dias = []\n",
        "        tomas_restantes = list(range(30))\n",
        "        llamadas_actor = [0] * 10  # Inicializamos un registro de cuántas veces se ha llamado a cada actor\n",
        "\n",
        "        while tomas_restantes:\n",
        "            sol, tomas_restantes = construccion(tomas_restantes, llamadas_actor)\n",
        "            dias.append(sol)\n",
        "\n",
        "        costo_actual = sum([costo_por_dia(dia) for dia in dias])\n",
        "\n",
        "        if costo_actual < mejor_costo:\n",
        "            mejor_costo = costo_actual\n",
        "            mejor_solucion = dias\n",
        "\n",
        "    return mejor_solucion, mejor_costo\n",
        "\n",
        "\n",
        "# Ejecutamos GRASP 100 veces y nos quedamos con la mejor solución\n",
        "dias, costo_total = grasp(100)\n",
        "\n",
        "\n",
        "\n",
        "costo_total = sum([costo_por_dia(dia) for dia in dias])\n",
        "print(f\"Costo total: {costo_total}\")\n",
        "for i, dia in enumerate(dias):\n",
        "    print(f\"Dia {i+1}: Toma {', '.join(map(str, [t+1 for t in dia]))}\")\n",
        "\n",
        "# Marca el tiempo de finalización y calcula la diferencia\n",
        "end_time = time.time()\n",
        "elapsed_time = end_time - start_time\n",
        "print(f\"Tiempo de ejecución: {elapsed_time:.2f} segundos\")"
      ],
      "execution_count": null,
      "outputs": [
        {
          "output_type": "stream",
          "name": "stdout",
          "text": [
            "Costo total: 46\n",
            "Dia 1: Toma 1, 27, 23, 18, 25, 6\n",
            "Dia 2: Toma 11, 14, 22, 17, 10, 24\n",
            "Dia 3: Toma 30, 4, 28, 2, 13, 20\n",
            "Dia 4: Toma 3, 5, 21, 7, 16, 9\n",
            "Dia 5: Toma 19, 8, 26, 15, 12, 29\n",
            "Tiempo de ejecución: 0.15 segundos\n"
          ]
        }
      ]
    },
    {
      "cell_type": "markdown",
      "metadata": {
        "id": "eTFWUJQrtGcv"
      },
      "source": [
        "Enumera las referencias que has utilizado(si ha sido necesario) para llevar a cabo el trabajo"
      ]
    },
    {
      "cell_type": "markdown",
      "metadata": {
        "id": "YKQ_mRBttWsP"
      },
      "source": [
        "Respuesta"
      ]
    },
    {
      "cell_type": "markdown",
      "source": [
        "* Clases e informacion proporcionada en el Aula\n",
        "* Proyecto de Fin de Master \"Aplicación de algoritmos heurísticos para optimizar el coste de doblaje de películas\". Disponible en: http://eio.usc.es/pub/mte/descargas/ProyectosFinMaster/Proyecto_759.pdf\n"
      ],
      "metadata": {
        "id": "SDfGDajqQHDP"
      }
    },
    {
      "cell_type": "markdown",
      "metadata": {
        "id": "kAkDPUyRtYyH"
      },
      "source": [
        "Describe brevemente las lineas de como crees que es posible avanzar en el estudio del problema. Ten en cuenta incluso posibles variaciones del problema y/o variaciones al alza del tamaño"
      ]
    },
    {
      "cell_type": "markdown",
      "metadata": {
        "id": "IE0uZmo-tZu-"
      },
      "source": [
        "Respuesta\n",
        "\n",
        "**R/** En este caso con los algoritmos desarrollados, se obtuvo un mejor resultado con el algoritmo de fuerza bruta al obtener un menor costo total. Sin embargo, es de valorar que el tiempo de ejecución y el coste computacional también son considerablemente mayores al algoritmo impleentado GRASP.\n",
        "\n",
        "Por lo tanto, se considera que para este problema en especifico, un metodo exacto como el de fuerza bruta aún era viable y podia encontrar la soluciób más optima. Sin embargo, un método heurístico permite encontrar una solución que si bien no es óptima, es aceptable, y en mucho menor tiempo.\n",
        "\n",
        "Si los datos de entradas fuera mucho más grande, definitivamente el algoritmo de fuera bruta fuera inviable y es donde toma mayor importancia métodos heurísitco como el algoritmo GRASP implementado.\n",
        "\n",
        "Se valora que hizo falta más pruebas como otros enfoques en la función de construcción o de búsqueda local, al igual que abordarlo con otros algoritmos como por ejemplo los genéticos.\n",
        "\n"
      ]
    }
  ]
}