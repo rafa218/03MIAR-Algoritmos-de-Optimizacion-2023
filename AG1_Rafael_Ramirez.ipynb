{
  "nbformat": 4,
  "nbformat_minor": 0,
  "metadata": {
    "colab": {
      "provenance": [],
      "authorship_tag": "ABX9TyPgbjdlrFaVaExWbxMHo8xb",
      "include_colab_link": true
    },
    "kernelspec": {
      "name": "python3",
      "display_name": "Python 3"
    },
    "language_info": {
      "name": "python"
    }
  },
  "cells": [
    {
      "cell_type": "markdown",
      "metadata": {
        "id": "view-in-github",
        "colab_type": "text"
      },
      "source": [
        "<a href=\"https://colab.research.google.com/github/rafa218/03MIAR-Algoritmos-de-Optimizacion-2023/blob/main/AG1_Rafael_Ramirez.ipynb\" target=\"_parent\"><img src=\"https://colab.research.google.com/assets/colab-badge.svg\" alt=\"Open In Colab\"/></a>"
      ]
    },
    {
      "cell_type": "markdown",
      "source": [
        "# **Actividad Guiada 1**\n",
        "\n",
        "**Rafael Ernesto Ramírez Ruiz**"
      ],
      "metadata": {
        "id": "P8KpBexL4KVZ"
      }
    },
    {
      "cell_type": "markdown",
      "source": [
        "### ***Torres Hanoi***"
      ],
      "metadata": {
        "id": "z9dQ-nxk5Nha"
      }
    },
    {
      "cell_type": "code",
      "source": [
        "def torres_hanoi(N,origen, destino, pivote):\n",
        "\n",
        "  if N==1:\n",
        "    print(f\"Mover bloque desde {origen} a {destino}\")\n",
        "    return\n",
        "\n",
        "  torres_hanoi(N-1,origen,pivote,destino)\n",
        "  print(f\"Mover bloque desde {origen} a {destino}\")\n",
        "  torres_hanoi(N-1, pivote, destino, origen)\n",
        "\n",
        "torres_hanoi(4,1,3,2)"
      ],
      "metadata": {
        "colab": {
          "base_uri": "https://localhost:8080/"
        },
        "id": "UdtJrM1Y4Tz7",
        "outputId": "86c3557a-15b3-4a27-a8cb-4eb5d9b6acd5"
      },
      "execution_count": 1,
      "outputs": [
        {
          "output_type": "stream",
          "name": "stdout",
          "text": [
            "Mover bloque desde 1 a 2\n",
            "Mover bloque desde 1 a 3\n",
            "Mover bloque desde 2 a 3\n",
            "Mover bloque desde 1 a 2\n",
            "Mover bloque desde 3 a 1\n",
            "Mover bloque desde 3 a 2\n",
            "Mover bloque desde 1 a 2\n",
            "Mover bloque desde 1 a 3\n",
            "Mover bloque desde 2 a 3\n",
            "Mover bloque desde 2 a 1\n",
            "Mover bloque desde 3 a 1\n",
            "Mover bloque desde 2 a 3\n",
            "Mover bloque desde 1 a 2\n",
            "Mover bloque desde 1 a 3\n",
            "Mover bloque desde 2 a 3\n"
          ]
        }
      ]
    },
    {
      "cell_type": "markdown",
      "source": [
        "### ***Cambio de monedas***"
      ],
      "metadata": {
        "id": "QC2aDUHg5TQm"
      }
    },
    {
      "cell_type": "code",
      "source": [
        "def cambio_monedas(cantidad, sistema):\n",
        "\n",
        "  print(\"Sistema:\")\n",
        "  print(sistema)\n",
        "\n",
        "  solucion=[0 for i in range(len(sistema))]\n",
        "  valor_acumulado=0\n",
        "\n",
        "  for i in range(len(sistema)):\n",
        "    monedas=int((cantidad-valor_acumulado)/sistema[i])\n",
        "    solucion[i]=monedas\n",
        "    valor_acumulado+=monedas*sistema[i]\n",
        "\n",
        "    if valor_acumulado==cantidad: return solucion\n",
        "\n",
        "  return solucion\n",
        "\n",
        "sistema=[25,10,5,1]\n",
        "cambio_monedas(27,sistema)\n",
        "\n"
      ],
      "metadata": {
        "colab": {
          "base_uri": "https://localhost:8080/"
        },
        "id": "PuUSa0Kt6lSH",
        "outputId": "bfe71dbe-45a7-4849-b4b9-1a76a891d09a"
      },
      "execution_count": 2,
      "outputs": [
        {
          "output_type": "stream",
          "name": "stdout",
          "text": [
            "Sistema:\n",
            "[25, 10, 5, 1]\n"
          ]
        },
        {
          "output_type": "execute_result",
          "data": {
            "text/plain": [
              "[1, 0, 0, 2]"
            ]
          },
          "metadata": {},
          "execution_count": 2
        }
      ]
    },
    {
      "cell_type": "code",
      "source": [],
      "metadata": {
        "id": "YLsBEXXi7Y1Z"
      },
      "execution_count": null,
      "outputs": []
    }
  ]
}